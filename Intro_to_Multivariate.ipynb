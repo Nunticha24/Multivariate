{
  "nbformat": 4,
  "nbformat_minor": 0,
  "metadata": {
    "colab": {
      "name": "Intro to Multivariate.ipynb",
      "provenance": [],
      "authorship_tag": "ABX9TyM8B9/5Nc6rK7BTBkcFsyME",
      "include_colab_link": true
    },
    "kernelspec": {
      "name": "python3",
      "display_name": "Python 3"
    }
  },
  "cells": [
    {
      "cell_type": "markdown",
      "metadata": {
        "id": "view-in-github",
        "colab_type": "text"
      },
      "source": [
        "<a href=\"https://colab.research.google.com/github/Nunticha24/Multivariate/blob/main/Intro_to_Multivariate.ipynb\" target=\"_parent\"><img src=\"https://colab.research.google.com/assets/colab-badge.svg\" alt=\"Open In Colab\"/></a>"
      ]
    },
    {
      "cell_type": "markdown",
      "metadata": {
        "id": "MobOt3tVjO6e"
      },
      "source": [
        "  นันทิชา วิชิต ID 623020526-8"
      ]
    },
    {
      "cell_type": "code",
      "metadata": {
        "colab": {
          "base_uri": "https://localhost:8080/"
        },
        "id": "GDwHKMj6kTKa",
        "outputId": "a981d883-79f9-45e5-c9ad-d52a2a7fde78"
      },
      "source": [
        "print('นันทิชา') #single quote ( ' ) ใช้ล้อมรอบข้อความ"
      ],
      "execution_count": null,
      "outputs": [
        {
          "output_type": "stream",
          "text": [
            "นันทิชา\n"
          ],
          "name": "stdout"
        }
      ]
    }
  ]
}