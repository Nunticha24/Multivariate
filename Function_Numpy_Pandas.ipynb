{
  "nbformat": 4,
  "nbformat_minor": 0,
  "metadata": {
    "colab": {
      "name": "Function_Numpy_Pandas.ipynb",
      "provenance": [],
      "authorship_tag": "ABX9TyMofffbsWNliBx1hjmTesbs",
      "include_colab_link": true
    },
    "kernelspec": {
      "name": "python3",
      "display_name": "Python 3"
    }
  },
  "cells": [
    {
      "cell_type": "markdown",
      "metadata": {
        "id": "view-in-github",
        "colab_type": "text"
      },
      "source": [
        "<a href=\"https://colab.research.google.com/github/Nunticha24/Multivariate/blob/main/Function_Numpy_Pandas.ipynb\" target=\"_parent\"><img src=\"https://colab.research.google.com/assets/colab-badge.svg\" alt=\"Open In Colab\"/></a>"
      ]
    },
    {
      "cell_type": "markdown",
      "metadata": {
        "id": "vLBEQD1CSt4z"
      },
      "source": [
        "# Function"
      ]
    },
    {
      "cell_type": "markdown",
      "metadata": {
        "id": "G3TKCLGJtJGF"
      },
      "source": [
        "![identity-function-graph.png](data:image/png;base64,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)"
      ]
    },
    {
      "cell_type": "markdown",
      "metadata": {
        "id": "ZjHpnQ1WuH4_"
      },
      "source": [
        "```python\r\n",
        "def function_name(_Input_) :\r\n",
        "    do_something with _Input_ to get _Output_ \r\n",
        "    return  _Output_\r\n",
        " ```"
      ]
    },
    {
      "cell_type": "markdown",
      "metadata": {
        "id": "abHlnVV3uQ7l"
      },
      "source": [
        "function มีส่วนสำคัญทั้งหมด 4 ส่วน\r\n",
        "\r\n",
        "1.   บอก python ว่าเราจะเขียนฟังก์ชั่น ชื่ออะไร def function_name(): (ขาดไม่ได้)\r\n",
        "2.   กำหนดตัวแปรที่จะเป็น input *Input* (ขาดได้)\r\n",
        "3.   ส่วนประมวลผล do_something with *Input* get *Output* (ขาดไม่ได้)\r\n",
        "4.   ส่วน output return *Output* (ขาดได้)\r\n",
        "\r\n",
        "เราใช้ เว้นวรรค (indent) เพื่อบอกขอบเขตของ code\r\n",
        "\r\n",
        "\r\n",
        "\r\n"
      ]
    },
    {
      "cell_type": "markdown",
      "metadata": {
        "id": "G-JySzXAMcTw"
      },
      "source": [
        "# สร้างฟังก์ชั่น"
      ]
    },
    {
      "cell_type": "code",
      "metadata": {
        "colab": {
          "base_uri": "https://localhost:8080/"
        },
        "id": "_ubwf4kpMgIr",
        "outputId": "2384f2e7-7b1f-424b-f871-e2829ea10a5a"
      },
      "source": [
        "def print_name(name,surname,ID):\r\n",
        "    st = f'ชื่อ {name} นามสกุล {surname} ID {ID}'\r\n",
        "    return st\r\n",
        "print('outside function')"
      ],
      "execution_count": null,
      "outputs": [
        {
          "output_type": "stream",
          "text": [
            "outside function\n"
          ],
          "name": "stdout"
        }
      ]
    },
    {
      "cell_type": "markdown",
      "metadata": {
        "id": "RXzUvl39Ns9e"
      },
      "source": [
        "การเรียกใช้ฟังก์ชั่น"
      ]
    },
    {
      "cell_type": "code",
      "metadata": {
        "colab": {
          "base_uri": "https://localhost:8080/",
          "height": 34
        },
        "id": "kj0ELu2tNxZz",
        "outputId": "2b56c653-d375-4326-f149-e31cb5a91110"
      },
      "source": [
        "print_name('นันทิชา', 'วิชิต', '623020526-8')"
      ],
      "execution_count": null,
      "outputs": [
        {
          "output_type": "execute_result",
          "data": {
            "application/vnd.google.colaboratory.intrinsic+json": {
              "type": "string"
            },
            "text/plain": [
              "'ชื่อ นันทิชา นามสกุล วิชิต ID 623020526-8'"
            ]
          },
          "metadata": {
            "tags": []
          },
          "execution_count": 2
        }
      ]
    },
    {
      "cell_type": "code",
      "metadata": {
        "colab": {
          "base_uri": "https://localhost:8080/"
        },
        "id": "k3Z4jsH5Oul2",
        "outputId": "28aa03eb-85da-4ee6-a25b-a26a122f792d"
      },
      "source": [
        "output_string = print_name('นันทิชา', 'วิชิต', '623020526-8')\r\n",
        "print(output_string)"
      ],
      "execution_count": null,
      "outputs": [
        {
          "output_type": "stream",
          "text": [
            "ชื่อ นันทิชา นามสกุล วิชิต ID 623020526-8\n"
          ],
          "name": "stdout"
        }
      ]
    },
    {
      "cell_type": "markdown",
      "metadata": {
        "id": "nY-e-VBmPBQD"
      },
      "source": [
        "ฟังก์ชั่นไม่จำเป็นต้องมี output"
      ]
    },
    {
      "cell_type": "code",
      "metadata": {
        "id": "V2YTEaQbPIWD"
      },
      "source": [
        "def print_name2(surname,ID,name):\r\n",
        "    st = f'ชื่อ {name} นามสกุล {surname} รหัส {ID}'\r\n",
        "    print(st)"
      ],
      "execution_count": null,
      "outputs": []
    },
    {
      "cell_type": "code",
      "metadata": {
        "colab": {
          "base_uri": "https://localhost:8080/"
        },
        "id": "EphUgDkKPvm6",
        "outputId": "389e0399-dabf-4dc2-d9bf-a56970e126d9"
      },
      "source": [
        "print_name2('นันทิชา', 'วิชิต', '623020526-8')"
      ],
      "execution_count": null,
      "outputs": [
        {
          "output_type": "stream",
          "text": [
            "ชื่อ 623020526-8 นามสกุล นันทิชา รหัส วิชิต\n"
          ],
          "name": "stdout"
        }
      ]
    },
    {
      "cell_type": "code",
      "metadata": {
        "colab": {
          "base_uri": "https://localhost:8080/"
        },
        "id": "Wd74TyplQVQD",
        "outputId": "afa48946-3174-4a96-e7e0-1c5bc7ed4fe9"
      },
      "source": [
        "op2 = print_name2('นันทิชา', 'วิชิต', '623020526-8')"
      ],
      "execution_count": null,
      "outputs": [
        {
          "output_type": "stream",
          "text": [
            "ชื่อ 623020526-8 นามสกุล นันทิชา รหัส วิชิต\n"
          ],
          "name": "stdout"
        }
      ]
    },
    {
      "cell_type": "code",
      "metadata": {
        "colab": {
          "base_uri": "https://localhost:8080/"
        },
        "id": "yd6DU-wKQeNM",
        "outputId": "2e72fded-bfd3-4665-9747-6a78684bd581"
      },
      "source": [
        "print(op2)"
      ],
      "execution_count": null,
      "outputs": [
        {
          "output_type": "stream",
          "text": [
            "None\n"
          ],
          "name": "stdout"
        }
      ]
    },
    {
      "cell_type": "markdown",
      "metadata": {
        "id": "-t7ojDuEQjPT"
      },
      "source": [
        "ฟังก์ชั่นไม่จำเป็นต้องมี input"
      ]
    },
    {
      "cell_type": "code",
      "metadata": {
        "id": "Kp77TCzvQseN"
      },
      "source": [
        "def Pi():\r\n",
        "    return 3.14159265359"
      ],
      "execution_count": null,
      "outputs": []
    },
    {
      "cell_type": "code",
      "metadata": {
        "colab": {
          "base_uri": "https://localhost:8080/"
        },
        "id": "Ap3xIQTFQ3Bi",
        "outputId": "a808b3cb-90a2-4512-a281-f503a58f5df9"
      },
      "source": [
        "#คำนวณพื้นที่วงกลมที่ขนาดเส้นผ่านศูย์กลางเท่ากับ 3\r\n",
        "Pi()*(1.5**2)"
      ],
      "execution_count": null,
      "outputs": [
        {
          "output_type": "execute_result",
          "data": {
            "text/plain": [
              "7.0685834705775"
            ]
          },
          "metadata": {
            "tags": []
          },
          "execution_count": 9
        }
      ]
    },
    {
      "cell_type": "code",
      "metadata": {
        "id": "IIA-ATicRMD0"
      },
      "source": [
        "def print_my_name():\r\n",
        "    print('นันทิชา วิชิต ID 623020526-8')"
      ],
      "execution_count": null,
      "outputs": []
    },
    {
      "cell_type": "code",
      "metadata": {
        "colab": {
          "base_uri": "https://localhost:8080/"
        },
        "id": "FyAKb3lcRpvq",
        "outputId": "f58a095c-208e-4fff-aaa6-25f239988e16"
      },
      "source": [
        "print_my_name()"
      ],
      "execution_count": null,
      "outputs": [
        {
          "output_type": "stream",
          "text": [
            "นันทิชา วิชิต ID 623020526-8\n"
          ],
          "name": "stdout"
        }
      ]
    },
    {
      "cell_type": "markdown",
      "metadata": {
        "id": "WWXCZaVIRvNs"
      },
      "source": [
        "**1.input ของ function ใน python มีสองแบบ input ที่จำเป็นต้องใส่ กับ input ที่ไม่จำเป็นต้องใส (มีค่า default)**\r\n",
        "\r\n",
        "**2.เราต้องเรียง input ที่จำเป็นต้องใส่ขึ้นก่อน**\r\n",
        "\r\n",
        "\r\n"
      ]
    },
    {
      "cell_type": "code",
      "metadata": {
        "id": "wk-SHEO8SddU"
      },
      "source": [
        "def print_2lines_default(name, surname, ID, grade='F'):\r\n",
        "    st = f'ชื่อ {name} นามสกุล {surname} รหัส {ID}'\r\n",
        "    print(st)\r\n",
        "    st2 = f'เกรดวิชา Multivariate >>> {grade}'\r\n",
        "    print(st2)"
      ],
      "execution_count": null,
      "outputs": []
    },
    {
      "cell_type": "code",
      "metadata": {
        "colab": {
          "base_uri": "https://localhost:8080/"
        },
        "id": "JkKkVfvVT3qr",
        "outputId": "68de7b67-4328-4bef-c7a1-8fd2a6d5e963"
      },
      "source": [
        "print_2lines_default('นันทิชา','วิชิต','623020526-8')"
      ],
      "execution_count": null,
      "outputs": [
        {
          "output_type": "stream",
          "text": [
            "ชื่อ นันทิชา นามสกุล วิชิต รหัส 623020526-8\n",
            "เกรดวิชา Multivariate >>> F\n"
          ],
          "name": "stdout"
        }
      ]
    },
    {
      "cell_type": "code",
      "metadata": {
        "colab": {
          "base_uri": "https://localhost:8080/"
        },
        "id": "hzVQ3ENIUXHr",
        "outputId": "331cf91a-c665-42fd-c8dd-14f97815bc6b"
      },
      "source": [
        "print_2lines_default('นันทิชา','วิชิต','623020526-8','A')"
      ],
      "execution_count": null,
      "outputs": [
        {
          "output_type": "stream",
          "text": [
            "ชื่อ นันทิชา นามสกุล วิชิต รหัส 623020526-8\n",
            "เกรดวิชา Multivariate >>> A\n"
          ],
          "name": "stdout"
        }
      ]
    },
    {
      "cell_type": "code",
      "metadata": {
        "colab": {
          "base_uri": "https://localhost:8080/"
        },
        "id": "e-qwEFFgUCuC",
        "outputId": "4fa197b2-6bfc-45bb-b9e1-5fb1f870f0dc"
      },
      "source": [
        "print_name2(name='นันทิชา', surname='วิชิต', ID='623020526-8')"
      ],
      "execution_count": null,
      "outputs": [
        {
          "output_type": "stream",
          "text": [
            "ชื่อ นันทิชา นามสกุล วิชิต รหัส 623020526-8\n"
          ],
          "name": "stdout"
        }
      ]
    },
    {
      "cell_type": "markdown",
      "metadata": {
        "id": "d8qEipW0UiHK"
      },
      "source": [
        "## HW3 ให้เขียน function คำนวณจำนวนวินาทีจากเวลาต่อไปนี้\r\n",
        "\r\n",
        "'14-15-31'\r\n",
        "\r\n",
        "'13-00-01'\r\n",
        "\r\n",
        "'05-49-44'\r\n",
        "\r\n",
        "'00-00-16'\r\n",
        "\r\n",
        "และ print ให้สวยงาม"
      ]
    },
    {
      "cell_type": "code",
      "metadata": {
        "id": "lVn5yolCVBB-"
      },
      "source": [
        "def function_q(times):\r\n",
        "  q = f'เวลา {times}'\r\n",
        "  print(q)\r\n",
        "  times_sp = times.split('-')\r\n",
        "  answer = int(times_sp[0])*3600 + int(times_sp[1])*60 + int(times_sp[2])\r\n",
        "  print(f'คำนวณเป็นจำนวนวินาทีได้เท่ากับ {answer} วินาที')"
      ],
      "execution_count": null,
      "outputs": []
    },
    {
      "cell_type": "code",
      "metadata": {
        "id": "SGY7UyAfcyQX",
        "colab": {
          "base_uri": "https://localhost:8080/"
        },
        "outputId": "5174d2f4-8696-4b52-aa14-9046ac9b7856"
      },
      "source": [
        "function_q('14-15-13')"
      ],
      "execution_count": null,
      "outputs": [
        {
          "output_type": "stream",
          "text": [
            "เวลา 14-15-13\n",
            "คำนวณเป็นจำนวนวินาทีได้เท่ากับ 51313 วินาที\n"
          ],
          "name": "stdout"
        }
      ]
    },
    {
      "cell_type": "code",
      "metadata": {
        "id": "1Z4FR6v8dfIl",
        "colab": {
          "base_uri": "https://localhost:8080/"
        },
        "outputId": "dc7a4d26-239f-4287-8e0f-dbed0d594cfb"
      },
      "source": [
        "function_q('13-00-01')"
      ],
      "execution_count": null,
      "outputs": [
        {
          "output_type": "stream",
          "text": [
            "เวลา 13-00-01\n",
            "คำนวณเป็นจำนวนวินาทีได้เท่ากับ 46801 วินาที\n"
          ],
          "name": "stdout"
        }
      ]
    },
    {
      "cell_type": "code",
      "metadata": {
        "id": "6q4wDo9mdoKX",
        "colab": {
          "base_uri": "https://localhost:8080/"
        },
        "outputId": "252ddfbd-81ba-4b75-d8e0-2737a1f39a3d"
      },
      "source": [
        "function_q('05-49-44')"
      ],
      "execution_count": null,
      "outputs": [
        {
          "output_type": "stream",
          "text": [
            "เวลา 05-49-44\n",
            "คำนวณเป็นจำนวนวินาทีได้เท่ากับ 20984 วินาที\n"
          ],
          "name": "stdout"
        }
      ]
    },
    {
      "cell_type": "code",
      "metadata": {
        "id": "Pnf56k_hdvnB",
        "colab": {
          "base_uri": "https://localhost:8080/"
        },
        "outputId": "78427234-62ac-456e-a8a0-1f04aa83359e"
      },
      "source": [
        "function_q('00-00-16')"
      ],
      "execution_count": null,
      "outputs": [
        {
          "output_type": "stream",
          "text": [
            "เวลา 00-00-16\n",
            "คำนวณเป็นจำนวนวินาทีได้เท่ากับ 16 วินาที\n"
          ],
          "name": "stdout"
        }
      ]
    },
    {
      "cell_type": "markdown",
      "metadata": {
        "id": "QB3A3FjipABF"
      },
      "source": [
        "Numy -> package สำหรับการจัดการกับ Array ที่เป็นตัวเลข (Matrix)\r\n",
        "\r\n",
        "Num + py -> Number-Numerical + python"
      ]
    },
    {
      "cell_type": "markdown",
      "metadata": {
        "id": "6ITXxa9Pp58I"
      },
      "source": [
        "การใช้ package\r\n",
        "\r\n",
        "1.   import packag\r\n",
        "2.   ชื่อ package.ชื่อฟังก์ชั่น#เรียกใช้ function\r\n"
      ]
    },
    {
      "cell_type": "code",
      "metadata": {
        "id": "QgTZ8veSqcof"
      },
      "source": [
        "import numpy"
      ],
      "execution_count": null,
      "outputs": []
    },
    {
      "cell_type": "markdown",
      "metadata": {
        "id": "q-VqgxVirB8v"
      },
      "source": [
        "![ดาวน์โหลด.png](data:image/png;base64,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)"
      ]
    },
    {
      "cell_type": "markdown",
      "metadata": {
        "id": "l7ysr_-lrJH7"
      },
      "source": [
        "data structure -> array\r\n",
        "\r\n",
        "สร้าง array (numpy array)"
      ]
    },
    {
      "cell_type": "code",
      "metadata": {
        "id": "XZgq2AdBrgHF",
        "colab": {
          "base_uri": "https://localhost:8080/"
        },
        "outputId": "8ad8bae3-321d-4f04-d1b7-c9e2252d3d4f"
      },
      "source": [
        "mat_ex1 = numpy.array([[5.2,3.0,4.5],[9.1,0.1,0.3]])\r\n",
        "print(mat_ex1)"
      ],
      "execution_count": null,
      "outputs": [
        {
          "output_type": "stream",
          "text": [
            "[[5.2 3.  4.5]\n",
            " [9.1 0.1 0.3]]\n"
          ],
          "name": "stdout"
        }
      ]
    },
    {
      "cell_type": "markdown",
      "metadata": {
        "id": "a2mdcOI6r-Kd"
      },
      "source": [
        "ชี้ค่าใน numpy array"
      ]
    },
    {
      "cell_type": "code",
      "metadata": {
        "id": "J10Xe0qvsKb5",
        "colab": {
          "base_uri": "https://localhost:8080/"
        },
        "outputId": "00415658-3839-42eb-f77a-bf6478cd8dad"
      },
      "source": [
        "mat_ex1[1,1] #[แถว,หลัก]"
      ],
      "execution_count": null,
      "outputs": [
        {
          "output_type": "execute_result",
          "data": {
            "text/plain": [
              "0.1"
            ]
          },
          "metadata": {
            "tags": []
          },
          "execution_count": 23
        }
      ]
    },
    {
      "cell_type": "markdown",
      "metadata": {
        "id": "Vwjr8texsDSN"
      },
      "source": [
        "ถ้าไม่มี numpy array"
      ]
    },
    {
      "cell_type": "code",
      "metadata": {
        "id": "bJcikGLnsIqg",
        "colab": {
          "base_uri": "https://localhost:8080/"
        },
        "outputId": "e5c6cfdd-29b6-4f7b-907e-7cea27a90d34"
      },
      "source": [
        "list_ex1 = [[5.2,3.0,4.5],[9.1,0.1,0.3]]\r\n",
        "print(list_ex1)"
      ],
      "execution_count": null,
      "outputs": [
        {
          "output_type": "stream",
          "text": [
            "[[5.2, 3.0, 4.5], [9.1, 0.1, 0.3]]\n"
          ],
          "name": "stdout"
        }
      ]
    },
    {
      "cell_type": "code",
      "metadata": {
        "id": "v9-qSxWguStd",
        "colab": {
          "base_uri": "https://localhost:8080/",
          "height": 164
        },
        "outputId": "2f580317-0816-4ff9-b3b1-8ce52b5aa6a1"
      },
      "source": [
        "list_ex1[1,1]"
      ],
      "execution_count": null,
      "outputs": [
        {
          "output_type": "error",
          "ename": "TypeError",
          "evalue": "ignored",
          "traceback": [
            "\u001b[0;31m---------------------------------------------------------------------------\u001b[0m",
            "\u001b[0;31mTypeError\u001b[0m                                 Traceback (most recent call last)",
            "\u001b[0;32m<ipython-input-25-0fb0b321fd3a>\u001b[0m in \u001b[0;36m<module>\u001b[0;34m()\u001b[0m\n\u001b[0;32m----> 1\u001b[0;31m \u001b[0mlist_ex1\u001b[0m\u001b[0;34m[\u001b[0m\u001b[0;36m1\u001b[0m\u001b[0;34m,\u001b[0m\u001b[0;36m1\u001b[0m\u001b[0;34m]\u001b[0m\u001b[0;34m\u001b[0m\u001b[0;34m\u001b[0m\u001b[0m\n\u001b[0m",
            "\u001b[0;31mTypeError\u001b[0m: list indices must be integers or slices, not tuple"
          ]
        }
      ]
    },
    {
      "cell_type": "code",
      "metadata": {
        "id": "eW6Hsz1ruXjH",
        "colab": {
          "base_uri": "https://localhost:8080/"
        },
        "outputId": "b4d44b65-4a14-46fc-bc05-172a86f697c3"
      },
      "source": [
        "list_ex1[1][1]"
      ],
      "execution_count": null,
      "outputs": [
        {
          "output_type": "execute_result",
          "data": {
            "text/plain": [
              "0.1"
            ]
          },
          "metadata": {
            "tags": []
          },
          "execution_count": 26
        }
      ]
    },
    {
      "cell_type": "code",
      "metadata": {
        "id": "4VTD80Hzuc25",
        "colab": {
          "base_uri": "https://localhost:8080/"
        },
        "outputId": "59fe8b1f-d408-4f2b-d650-1058cdb14539"
      },
      "source": [
        "print(list_ex1)\r\n",
        "a = list_ex1[1]\r\n",
        "print(a)\r\n",
        "print(a[1])"
      ],
      "execution_count": null,
      "outputs": [
        {
          "output_type": "stream",
          "text": [
            "[[5.2, 3.0, 4.5], [9.1, 0.1, 0.3]]\n",
            "[9.1, 0.1, 0.3]\n",
            "0.1\n"
          ],
          "name": "stdout"
        }
      ]
    },
    {
      "cell_type": "markdown",
      "metadata": {
        "id": "Oskn1QnRusyp"
      },
      "source": [
        "Matrix Operations\r\n",
        "\r\n",
        "data 2 แบบ -> matrix (2D array), scalar (ตัวเลขค่าคงที่)"
      ]
    },
    {
      "cell_type": "code",
      "metadata": {
        "id": "vx_JhO3yvDrE",
        "colab": {
          "base_uri": "https://localhost:8080/"
        },
        "outputId": "2885197d-6423-4b2f-a8e7-0e4842f952c2"
      },
      "source": [
        "mat_ex1 = numpy.array([[5.2,3.0,4.5],[9.1,0.1,0.3]])\r\n",
        "print(mat_ex1)\r\n",
        "mat_ex2 = numpy.array([[2,3.7,5.9],[91,1.5,7.3]])\r\n",
        "print(mat_ex2)"
      ],
      "execution_count": null,
      "outputs": [
        {
          "output_type": "stream",
          "text": [
            "[[5.2 3.  4.5]\n",
            " [9.1 0.1 0.3]]\n",
            "[[ 2.   3.7  5.9]\n",
            " [91.   1.5  7.3]]\n"
          ],
          "name": "stdout"
        }
      ]
    },
    {
      "cell_type": "markdown",
      "metadata": {
        "id": "KX5EEqZ4v4VH"
      },
      "source": [
        "#**บวกกับลบ matrix เอาตัวเลขตำแหน่งเดียวกันมาบวกหรือลบกัน**\r\n",
        "\r\n",
        "(หน้าตาของ matrix ต้องเหมือนกัน)"
      ]
    },
    {
      "cell_type": "code",
      "metadata": {
        "id": "ZewkgaSPv3_t",
        "colab": {
          "base_uri": "https://localhost:8080/"
        },
        "outputId": "bc3e5938-78ad-43df-e7cb-05f3dc4f7c87"
      },
      "source": [
        "mat_ex0 = numpy.array([[1,2],[3,4]])\r\n",
        "print(mat_ex0)"
      ],
      "execution_count": null,
      "outputs": [
        {
          "output_type": "stream",
          "text": [
            "[[1 2]\n",
            " [3 4]]\n"
          ],
          "name": "stdout"
        }
      ]
    },
    {
      "cell_type": "code",
      "metadata": {
        "id": "uEpCcfTUwj53",
        "colab": {
          "base_uri": "https://localhost:8080/"
        },
        "outputId": "79bc795e-95d7-439d-9088-1b6f0c595ea0"
      },
      "source": [
        "mat_ex3 = mat_ex1 + mat_ex2\r\n",
        "print(mat_ex3)\r\n",
        "mat_ex4 = mat_ex1 - mat_ex2\r\n",
        "print(mat_ex4)"
      ],
      "execution_count": null,
      "outputs": [
        {
          "output_type": "stream",
          "text": [
            "[[  7.2   6.7  10.4]\n",
            " [100.1   1.6   7.6]]\n",
            "[[  3.2  -0.7  -1.4]\n",
            " [-81.9  -1.4  -7. ]]\n"
          ],
          "name": "stdout"
        }
      ]
    },
    {
      "cell_type": "code",
      "metadata": {
        "id": "5MS7c1SQw41m",
        "colab": {
          "base_uri": "https://localhost:8080/",
          "height": 164
        },
        "outputId": "cb5df158-5655-4cf9-a806-4f65eb8ab7be"
      },
      "source": [
        "mat_ex1 + mat_ex0"
      ],
      "execution_count": null,
      "outputs": [
        {
          "output_type": "error",
          "ename": "ValueError",
          "evalue": "ignored",
          "traceback": [
            "\u001b[0;31m---------------------------------------------------------------------------\u001b[0m",
            "\u001b[0;31mValueError\u001b[0m                                Traceback (most recent call last)",
            "\u001b[0;32m<ipython-input-32-806ad2057085>\u001b[0m in \u001b[0;36m<module>\u001b[0;34m()\u001b[0m\n\u001b[0;32m----> 1\u001b[0;31m \u001b[0mmat_ex1\u001b[0m \u001b[0;34m+\u001b[0m \u001b[0mmat_ex0\u001b[0m\u001b[0;34m\u001b[0m\u001b[0;34m\u001b[0m\u001b[0m\n\u001b[0m",
            "\u001b[0;31mValueError\u001b[0m: operands could not be broadcast together with shapes (2,3) (2,2) "
          ]
        }
      ]
    },
    {
      "cell_type": "markdown",
      "metadata": {
        "id": "l7WY8ddnw8vs"
      },
      "source": [
        "การตรวจสอบขนาดของ matrix"
      ]
    },
    {
      "cell_type": "code",
      "metadata": {
        "id": "PtUQmUsQxEEe",
        "colab": {
          "base_uri": "https://localhost:8080/"
        },
        "outputId": "d62b569d-1b66-484f-f8d6-f00c817c4e56"
      },
      "source": [
        "mat_ex3.shape"
      ],
      "execution_count": null,
      "outputs": [
        {
          "output_type": "execute_result",
          "data": {
            "text/plain": [
              "(2, 3)"
            ]
          },
          "metadata": {
            "tags": []
          },
          "execution_count": 33
        }
      ]
    },
    {
      "cell_type": "code",
      "metadata": {
        "id": "z8CpnkwAxJOe",
        "colab": {
          "base_uri": "https://localhost:8080/"
        },
        "outputId": "2d04849d-9174-4f02-add7-a2b6e118e2a5"
      },
      "source": [
        "mat_ex3.shape[0]"
      ],
      "execution_count": null,
      "outputs": [
        {
          "output_type": "execute_result",
          "data": {
            "text/plain": [
              "2"
            ]
          },
          "metadata": {
            "tags": []
          },
          "execution_count": 34
        }
      ]
    },
    {
      "cell_type": "markdown",
      "metadata": {
        "id": "peH-0HNNxNZs"
      },
      "source": [
        "#**คูณ matrix**"
      ]
    },
    {
      "cell_type": "markdown",
      "metadata": {
        "id": "3-en5k2gxUPU"
      },
      "source": [
        "![ดาวน์โหลด (1).gif](data:image/gif;base64,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)"
      ]
    },
    {
      "cell_type": "code",
      "metadata": {
        "id": "_fStH0-Yxfph",
        "colab": {
          "base_uri": "https://localhost:8080/"
        },
        "outputId": "7e27ed0c-57f7-4604-ad35-07455bd13f0a"
      },
      "source": [
        "print(mat_ex1)\r\n",
        "print(mat_ex1.shape)\r\n",
        "print(mat_ex2)\r\n",
        "print(mat_ex2.shape)"
      ],
      "execution_count": null,
      "outputs": [
        {
          "output_type": "stream",
          "text": [
            "[[5.2 3.  4.5]\n",
            " [9.1 0.1 0.3]]\n",
            "(2, 3)\n",
            "[[ 2.   3.7  5.9]\n",
            " [91.   1.5  7.3]]\n",
            "(2, 3)\n"
          ],
          "name": "stdout"
        }
      ]
    },
    {
      "cell_type": "code",
      "metadata": {
        "id": "SIKngEpIx2O0",
        "colab": {
          "base_uri": "https://localhost:8080/"
        },
        "outputId": "cdce17b6-b634-4924-8562-e4032a05f120"
      },
      "source": [
        "mat_ex1 * mat_ex2"
      ],
      "execution_count": null,
      "outputs": [
        {
          "output_type": "execute_result",
          "data": {
            "text/plain": [
              "array([[1.040e+01, 1.110e+01, 2.655e+01],\n",
              "       [8.281e+02, 1.500e-01, 2.190e+00]])"
            ]
          },
          "metadata": {
            "tags": []
          },
          "execution_count": 36
        }
      ]
    },
    {
      "cell_type": "markdown",
      "metadata": {
        "id": "TBcWREJ-x7TK"
      },
      "source": [
        "#**การคูณ matrix (แถวคูณหลัก)**\r\n",
        "\r\n",
        "(หลักของ Matrix ตัวข้างหน้าต้องเท่ากับแถวของ Matrix ตัวข้างหลัง)\r\n",
        "\r\n",
        "(AAA,x) . (x,AAA) = (AAA,ZZZ)"
      ]
    },
    {
      "cell_type": "code",
      "metadata": {
        "id": "I5Llg_ozyhjQ",
        "colab": {
          "base_uri": "https://localhost:8080/",
          "height": 198
        },
        "outputId": "a396214a-5caa-4099-8315-265710cd2aec"
      },
      "source": [
        "numpy.dot(mat_ex1,mat_ex2)"
      ],
      "execution_count": 43,
      "outputs": [
        {
          "output_type": "error",
          "ename": "ValueError",
          "evalue": "ignored",
          "traceback": [
            "\u001b[0;31m---------------------------------------------------------------------------\u001b[0m",
            "\u001b[0;31mValueError\u001b[0m                                Traceback (most recent call last)",
            "\u001b[0;32m<ipython-input-43-87326e5d09ab>\u001b[0m in \u001b[0;36m<module>\u001b[0;34m()\u001b[0m\n\u001b[0;32m----> 1\u001b[0;31m \u001b[0mnumpy\u001b[0m\u001b[0;34m.\u001b[0m\u001b[0mdot\u001b[0m\u001b[0;34m(\u001b[0m\u001b[0mmat_ex1\u001b[0m\u001b[0;34m,\u001b[0m\u001b[0mmat_ex2\u001b[0m\u001b[0;34m)\u001b[0m\u001b[0;34m\u001b[0m\u001b[0;34m\u001b[0m\u001b[0m\n\u001b[0m",
            "\u001b[0;32m<__array_function__ internals>\u001b[0m in \u001b[0;36mdot\u001b[0;34m(*args, **kwargs)\u001b[0m\n",
            "\u001b[0;31mValueError\u001b[0m: shapes (2,3) and (2,3) not aligned: 3 (dim 1) != 2 (dim 0)"
          ]
        }
      ]
    },
    {
      "cell_type": "code",
      "metadata": {
        "id": "Ow_ijzx1ysaG",
        "colab": {
          "base_uri": "https://localhost:8080/"
        },
        "outputId": "9e66d487-9afa-4f03-9f64-697bad51324c"
      },
      "source": [
        "print(mat_ex1)\r\n",
        "print(mat_ex1.shape)\r\n",
        "print(mat_ex2)\r\n",
        "print(mat_ex2.shape)"
      ],
      "execution_count": null,
      "outputs": [
        {
          "output_type": "stream",
          "text": [
            "[[5.2 3.  4.5]\n",
            " [9.1 0.1 0.3]]\n",
            "(2, 3)\n",
            "[[ 2.   3.7  5.9]\n",
            " [91.   1.5  7.3]]\n",
            "(2, 3)\n"
          ],
          "name": "stdout"
        }
      ]
    },
    {
      "cell_type": "markdown",
      "metadata": {
        "id": "jp9oSVety74a"
      },
      "source": [
        "#**Transpose กลับแถวเป็นหลักกลับหลักเป็นแถว**\r\n",
        "\r\n",
        "matrix.T"
      ]
    },
    {
      "cell_type": "code",
      "metadata": {
        "id": "_vjvhv5zzLmc",
        "colab": {
          "base_uri": "https://localhost:8080/"
        },
        "outputId": "52a79479-8aba-409e-e106-9d0cffb1bdb3"
      },
      "source": [
        "print(mat_ex2)\r\n",
        "print(mat_ex2.shape)"
      ],
      "execution_count": null,
      "outputs": [
        {
          "output_type": "stream",
          "text": [
            "[[ 2.   3.7  5.9]\n",
            " [91.   1.5  7.3]]\n",
            "(2, 3)\n"
          ],
          "name": "stdout"
        }
      ]
    },
    {
      "cell_type": "code",
      "metadata": {
        "id": "RnK41GqEzVeV",
        "colab": {
          "base_uri": "https://localhost:8080/"
        },
        "outputId": "dbed75f2-488b-4bb7-b52b-6fba91f434b3"
      },
      "source": [
        "print(mat_ex2.T)\r\n",
        "print(mat_ex2.T.shape)"
      ],
      "execution_count": null,
      "outputs": [
        {
          "output_type": "stream",
          "text": [
            "[[ 2.  91. ]\n",
            " [ 3.7  1.5]\n",
            " [ 5.9  7.3]]\n",
            "(3, 2)\n"
          ],
          "name": "stdout"
        }
      ]
    },
    {
      "cell_type": "code",
      "metadata": {
        "id": "I_2fFJp-zc_T",
        "colab": {
          "base_uri": "https://localhost:8080/"
        },
        "outputId": "dcaf5e8d-d65a-44f2-ab73-78c615e338e9"
      },
      "source": [
        "numpy.dot(mat_ex1,mat_ex2.T) #(2,3).(3,2)"
      ],
      "execution_count": null,
      "outputs": [
        {
          "output_type": "execute_result",
          "data": {
            "text/plain": [
              "array([[ 48.05, 510.55],\n",
              "       [ 20.34, 830.44]])"
            ]
          },
          "metadata": {
            "tags": []
          },
          "execution_count": 41
        }
      ]
    },
    {
      "cell_type": "code",
      "metadata": {
        "id": "6kChTF0Azv0k",
        "colab": {
          "base_uri": "https://localhost:8080/"
        },
        "outputId": "29c476a6-a038-403d-b786-90ae738d2c9c"
      },
      "source": [
        "numpy.dot(mat_ex1.T,mat_ex2) #(3,2).(2,3) = (3,3)"
      ],
      "execution_count": null,
      "outputs": [
        {
          "output_type": "execute_result",
          "data": {
            "text/plain": [
              "array([[838.5 ,  32.89,  97.11],\n",
              "       [ 15.1 ,  11.25,  18.43],\n",
              "       [ 36.3 ,  17.1 ,  28.74]])"
            ]
          },
          "metadata": {
            "tags": []
          },
          "execution_count": 42
        }
      ]
    },
    {
      "cell_type": "markdown",
      "metadata": {
        "id": "EZl3J3dZz84-"
      },
      "source": [
        "#**HW4** อธิบายการหา Determinant Inverse matrix (รูปและคำอธิบาย)"
      ]
    }
  ]
}